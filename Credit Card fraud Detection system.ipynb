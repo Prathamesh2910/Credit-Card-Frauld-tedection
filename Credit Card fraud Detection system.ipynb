{
 "cells": [
  {
   "cell_type": "code",
   "execution_count": 284,
   "id": "f9924b10",
   "metadata": {},
   "outputs": [],
   "source": [
    "import numpy as np\n",
    "import pandas as pd\n",
    "    "
   ]
  },
  {
   "cell_type": "markdown",
   "id": "79e66191",
   "metadata": {},
   "source": [
    " **Import dataset**"
   ]
  },
  {
   "cell_type": "code",
   "execution_count": 285,
   "id": "978e8c92",
   "metadata": {},
   "outputs": [],
   "source": [
    "credit_card_data = pd.read_csv ('creditCardSmall.csv')"
   ]
  },
  {
   "cell_type": "code",
   "execution_count": 286,
   "id": "4d58ebe8",
   "metadata": {},
   "outputs": [
    {
     "data": {
      "text/plain": [
       "(5007, 31)"
      ]
     },
     "execution_count": 286,
     "metadata": {},
     "output_type": "execute_result"
    }
   ],
   "source": [
    "credit_card_data.shape"
   ]
  },
  {
   "cell_type": "markdown",
   "id": "516df38a",
   "metadata": {},
   "source": [
    "**1st five and last five raws of dataset**"
   ]
  },
  {
   "cell_type": "code",
   "execution_count": 287,
   "id": "956b0d2b",
   "metadata": {},
   "outputs": [
    {
     "data": {
      "text/html": [
       "<div>\n",
       "<style scoped>\n",
       "    .dataframe tbody tr th:only-of-type {\n",
       "        vertical-align: middle;\n",
       "    }\n",
       "\n",
       "    .dataframe tbody tr th {\n",
       "        vertical-align: top;\n",
       "    }\n",
       "\n",
       "    .dataframe thead th {\n",
       "        text-align: right;\n",
       "    }\n",
       "</style>\n",
       "<table border=\"1\" class=\"dataframe\">\n",
       "  <thead>\n",
       "    <tr style=\"text-align: right;\">\n",
       "      <th></th>\n",
       "      <th>Time</th>\n",
       "      <th>V1</th>\n",
       "      <th>V2</th>\n",
       "      <th>V3</th>\n",
       "      <th>V4</th>\n",
       "      <th>V5</th>\n",
       "      <th>V6</th>\n",
       "      <th>V7</th>\n",
       "      <th>V8</th>\n",
       "      <th>V9</th>\n",
       "      <th>...</th>\n",
       "      <th>V21</th>\n",
       "      <th>V22</th>\n",
       "      <th>V23</th>\n",
       "      <th>V24</th>\n",
       "      <th>V25</th>\n",
       "      <th>V26</th>\n",
       "      <th>V27</th>\n",
       "      <th>V28</th>\n",
       "      <th>Amount</th>\n",
       "      <th>Class</th>\n",
       "    </tr>\n",
       "  </thead>\n",
       "  <tbody>\n",
       "    <tr>\n",
       "      <th>0</th>\n",
       "      <td>406</td>\n",
       "      <td>-2.312226542</td>\n",
       "      <td>1.951992</td>\n",
       "      <td>-1.609851</td>\n",
       "      <td>3.997906</td>\n",
       "      <td>-0.522188</td>\n",
       "      <td>-1.426545</td>\n",
       "      <td>-2.537387</td>\n",
       "      <td>1.391657</td>\n",
       "      <td>-2.770089</td>\n",
       "      <td>...</td>\n",
       "      <td>0.517232</td>\n",
       "      <td>-0.035049</td>\n",
       "      <td>-0.465211</td>\n",
       "      <td>0.320198</td>\n",
       "      <td>0.044519</td>\n",
       "      <td>0.177840</td>\n",
       "      <td>0.261145</td>\n",
       "      <td>-0.143276</td>\n",
       "      <td>0.00</td>\n",
       "      <td>1</td>\n",
       "    </tr>\n",
       "    <tr>\n",
       "      <th>1</th>\n",
       "      <td>472</td>\n",
       "      <td>-3.043540624</td>\n",
       "      <td>-3.157307</td>\n",
       "      <td>1.088463</td>\n",
       "      <td>2.288644</td>\n",
       "      <td>1.359805</td>\n",
       "      <td>-1.064823</td>\n",
       "      <td>0.325574</td>\n",
       "      <td>-0.067794</td>\n",
       "      <td>-0.270953</td>\n",
       "      <td>...</td>\n",
       "      <td>0.661696</td>\n",
       "      <td>0.435477</td>\n",
       "      <td>1.375966</td>\n",
       "      <td>-0.293803</td>\n",
       "      <td>0.279798</td>\n",
       "      <td>-0.145362</td>\n",
       "      <td>-0.252773</td>\n",
       "      <td>0.035764</td>\n",
       "      <td>529.00</td>\n",
       "      <td>1</td>\n",
       "    </tr>\n",
       "    <tr>\n",
       "      <th>2</th>\n",
       "      <td>4462</td>\n",
       "      <td>-2.303349568</td>\n",
       "      <td>1.759247</td>\n",
       "      <td>-0.359745</td>\n",
       "      <td>2.330243</td>\n",
       "      <td>-0.821628</td>\n",
       "      <td>-0.075788</td>\n",
       "      <td>0.562320</td>\n",
       "      <td>-0.399147</td>\n",
       "      <td>-0.238253</td>\n",
       "      <td>...</td>\n",
       "      <td>-0.294166</td>\n",
       "      <td>-0.932391</td>\n",
       "      <td>0.172726</td>\n",
       "      <td>-0.087330</td>\n",
       "      <td>-0.156114</td>\n",
       "      <td>-0.542628</td>\n",
       "      <td>0.039566</td>\n",
       "      <td>-0.153029</td>\n",
       "      <td>239.93</td>\n",
       "      <td>1</td>\n",
       "    </tr>\n",
       "    <tr>\n",
       "      <th>3</th>\n",
       "      <td>6986</td>\n",
       "      <td>-4.397974442</td>\n",
       "      <td>1.358367</td>\n",
       "      <td>-2.592844</td>\n",
       "      <td>2.679787</td>\n",
       "      <td>-1.128131</td>\n",
       "      <td>-1.706536</td>\n",
       "      <td>-3.496197</td>\n",
       "      <td>-0.248778</td>\n",
       "      <td>-0.247768</td>\n",
       "      <td>...</td>\n",
       "      <td>0.573574</td>\n",
       "      <td>0.176968</td>\n",
       "      <td>-0.436207</td>\n",
       "      <td>-0.053502</td>\n",
       "      <td>0.252405</td>\n",
       "      <td>-0.657488</td>\n",
       "      <td>-0.827136</td>\n",
       "      <td>0.849573</td>\n",
       "      <td>59.00</td>\n",
       "      <td>1</td>\n",
       "    </tr>\n",
       "    <tr>\n",
       "      <th>4</th>\n",
       "      <td>7519</td>\n",
       "      <td>1.234235046</td>\n",
       "      <td>3.019740</td>\n",
       "      <td>-4.304597</td>\n",
       "      <td>4.732795</td>\n",
       "      <td>3.624201</td>\n",
       "      <td>-1.357746</td>\n",
       "      <td>1.713445</td>\n",
       "      <td>-0.496358</td>\n",
       "      <td>-1.282858</td>\n",
       "      <td>...</td>\n",
       "      <td>-0.379068</td>\n",
       "      <td>-0.704181</td>\n",
       "      <td>-0.656805</td>\n",
       "      <td>-1.632653</td>\n",
       "      <td>1.488901</td>\n",
       "      <td>0.566797</td>\n",
       "      <td>-0.010016</td>\n",
       "      <td>0.146793</td>\n",
       "      <td>1.00</td>\n",
       "      <td>1</td>\n",
       "    </tr>\n",
       "  </tbody>\n",
       "</table>\n",
       "<p>5 rows × 31 columns</p>\n",
       "</div>"
      ],
      "text/plain": [
       "   Time            V1        V2        V3        V4        V5        V6  \\\n",
       "0   406  -2.312226542  1.951992 -1.609851  3.997906 -0.522188 -1.426545   \n",
       "1   472  -3.043540624 -3.157307  1.088463  2.288644  1.359805 -1.064823   \n",
       "2  4462  -2.303349568  1.759247 -0.359745  2.330243 -0.821628 -0.075788   \n",
       "3  6986  -4.397974442  1.358367 -2.592844  2.679787 -1.128131 -1.706536   \n",
       "4  7519   1.234235046  3.019740 -4.304597  4.732795  3.624201 -1.357746   \n",
       "\n",
       "         V7        V8        V9  ...       V21       V22       V23       V24  \\\n",
       "0 -2.537387  1.391657 -2.770089  ...  0.517232 -0.035049 -0.465211  0.320198   \n",
       "1  0.325574 -0.067794 -0.270953  ...  0.661696  0.435477  1.375966 -0.293803   \n",
       "2  0.562320 -0.399147 -0.238253  ... -0.294166 -0.932391  0.172726 -0.087330   \n",
       "3 -3.496197 -0.248778 -0.247768  ...  0.573574  0.176968 -0.436207 -0.053502   \n",
       "4  1.713445 -0.496358 -1.282858  ... -0.379068 -0.704181 -0.656805 -1.632653   \n",
       "\n",
       "        V25       V26       V27       V28  Amount  Class  \n",
       "0  0.044519  0.177840  0.261145 -0.143276    0.00      1  \n",
       "1  0.279798 -0.145362 -0.252773  0.035764  529.00      1  \n",
       "2 -0.156114 -0.542628  0.039566 -0.153029  239.93      1  \n",
       "3  0.252405 -0.657488 -0.827136  0.849573   59.00      1  \n",
       "4  1.488901  0.566797 -0.010016  0.146793    1.00      1  \n",
       "\n",
       "[5 rows x 31 columns]"
      ]
     },
     "execution_count": 287,
     "metadata": {},
     "output_type": "execute_result"
    }
   ],
   "source": [
    "credit_card_data.head()"
   ]
  },
  {
   "cell_type": "code",
   "execution_count": 288,
   "id": "c6a04e56",
   "metadata": {},
   "outputs": [
    {
     "data": {
      "text/html": [
       "<div>\n",
       "<style scoped>\n",
       "    .dataframe tbody tr th:only-of-type {\n",
       "        vertical-align: middle;\n",
       "    }\n",
       "\n",
       "    .dataframe tbody tr th {\n",
       "        vertical-align: top;\n",
       "    }\n",
       "\n",
       "    .dataframe thead th {\n",
       "        text-align: right;\n",
       "    }\n",
       "</style>\n",
       "<table border=\"1\" class=\"dataframe\">\n",
       "  <thead>\n",
       "    <tr style=\"text-align: right;\">\n",
       "      <th></th>\n",
       "      <th>Time</th>\n",
       "      <th>V1</th>\n",
       "      <th>V2</th>\n",
       "      <th>V3</th>\n",
       "      <th>V4</th>\n",
       "      <th>V5</th>\n",
       "      <th>V6</th>\n",
       "      <th>V7</th>\n",
       "      <th>V8</th>\n",
       "      <th>V9</th>\n",
       "      <th>...</th>\n",
       "      <th>V21</th>\n",
       "      <th>V22</th>\n",
       "      <th>V23</th>\n",
       "      <th>V24</th>\n",
       "      <th>V25</th>\n",
       "      <th>V26</th>\n",
       "      <th>V27</th>\n",
       "      <th>V28</th>\n",
       "      <th>Amount</th>\n",
       "      <th>Class</th>\n",
       "    </tr>\n",
       "  </thead>\n",
       "  <tbody>\n",
       "    <tr>\n",
       "      <th>5002</th>\n",
       "      <td>3825</td>\n",
       "      <td>1.136567061</td>\n",
       "      <td>0.206753</td>\n",
       "      <td>0.284115</td>\n",
       "      <td>1.233478</td>\n",
       "      <td>0.269840</td>\n",
       "      <td>0.315589</td>\n",
       "      <td>0.006512</td>\n",
       "      <td>-0.089123</td>\n",
       "      <td>1.494201</td>\n",
       "      <td>...</td>\n",
       "      <td>-0.347095</td>\n",
       "      <td>-0.660825</td>\n",
       "      <td>-0.098141</td>\n",
       "      <td>-0.823444</td>\n",
       "      <td>0.559225</td>\n",
       "      <td>-0.478082</td>\n",
       "      <td>0.014488</td>\n",
       "      <td>0.017774</td>\n",
       "      <td>55.59</td>\n",
       "      <td>0</td>\n",
       "    </tr>\n",
       "    <tr>\n",
       "      <th>5003</th>\n",
       "      <td>3826</td>\n",
       "      <td>1.106139907</td>\n",
       "      <td>-0.083201</td>\n",
       "      <td>1.030200</td>\n",
       "      <td>1.448941</td>\n",
       "      <td>-0.351855</td>\n",
       "      <td>0.825558</td>\n",
       "      <td>-0.718770</td>\n",
       "      <td>0.212062</td>\n",
       "      <td>2.198118</td>\n",
       "      <td>...</td>\n",
       "      <td>-0.224700</td>\n",
       "      <td>-0.242384</td>\n",
       "      <td>-0.089628</td>\n",
       "      <td>-0.835864</td>\n",
       "      <td>0.404413</td>\n",
       "      <td>-0.352298</td>\n",
       "      <td>0.052244</td>\n",
       "      <td>0.025029</td>\n",
       "      <td>41.04</td>\n",
       "      <td>0</td>\n",
       "    </tr>\n",
       "    <tr>\n",
       "      <th>5004</th>\n",
       "      <td>3826</td>\n",
       "      <td>-0.345771824</td>\n",
       "      <td>1.140106</td>\n",
       "      <td>1.412193</td>\n",
       "      <td>0.281322</td>\n",
       "      <td>0.001598</td>\n",
       "      <td>-0.979046</td>\n",
       "      <td>0.516874</td>\n",
       "      <td>-0.078025</td>\n",
       "      <td>1.089442</td>\n",
       "      <td>...</td>\n",
       "      <td>-0.429051</td>\n",
       "      <td>-0.983112</td>\n",
       "      <td>0.011796</td>\n",
       "      <td>0.237553</td>\n",
       "      <td>-0.228073</td>\n",
       "      <td>0.037685</td>\n",
       "      <td>0.210402</td>\n",
       "      <td>0.089230</td>\n",
       "      <td>1.79</td>\n",
       "      <td>0</td>\n",
       "    </tr>\n",
       "    <tr>\n",
       "      <th>5005</th>\n",
       "      <td>3827</td>\n",
       "      <td>0.755791722</td>\n",
       "      <td>-1.356122</td>\n",
       "      <td>0.717366</td>\n",
       "      <td>-1.418804</td>\n",
       "      <td>-1.793278</td>\n",
       "      <td>-1.177958</td>\n",
       "      <td>-0.394422</td>\n",
       "      <td>-0.228229</td>\n",
       "      <td>3.776476</td>\n",
       "      <td>...</td>\n",
       "      <td>0.036982</td>\n",
       "      <td>0.032657</td>\n",
       "      <td>-0.241899</td>\n",
       "      <td>0.679177</td>\n",
       "      <td>0.376135</td>\n",
       "      <td>-0.866088</td>\n",
       "      <td>0.026492</td>\n",
       "      <td>0.075376</td>\n",
       "      <td>265.42</td>\n",
       "      <td>0</td>\n",
       "    </tr>\n",
       "    <tr>\n",
       "      <th>5006</th>\n",
       "      <td>3829</td>\n",
       "      <td>1.127634522</td>\n",
       "      <td>-0.177541</td>\n",
       "      <td>0.928538</td>\n",
       "      <td>0.215266</td>\n",
       "      <td>-0.793714</td>\n",
       "      <td>-0.235573</td>\n",
       "      <td>-0.632665</td>\n",
       "      <td>0.152417</td>\n",
       "      <td>1.627184</td>\n",
       "      <td>...</td>\n",
       "      <td>-0.258483</td>\n",
       "      <td>-0.630442</td>\n",
       "      <td>0.211391</td>\n",
       "      <td>0.153379</td>\n",
       "      <td>-0.203400</td>\n",
       "      <td>0.753116</td>\n",
       "      <td>-0.089801</td>\n",
       "      <td>-0.003283</td>\n",
       "      <td>23.70</td>\n",
       "      <td>0</td>\n",
       "    </tr>\n",
       "  </tbody>\n",
       "</table>\n",
       "<p>5 rows × 31 columns</p>\n",
       "</div>"
      ],
      "text/plain": [
       "      Time            V1        V2        V3        V4        V5        V6  \\\n",
       "5002  3825   1.136567061  0.206753  0.284115  1.233478  0.269840  0.315589   \n",
       "5003  3826   1.106139907 -0.083201  1.030200  1.448941 -0.351855  0.825558   \n",
       "5004  3826  -0.345771824  1.140106  1.412193  0.281322  0.001598 -0.979046   \n",
       "5005  3827   0.755791722 -1.356122  0.717366 -1.418804 -1.793278 -1.177958   \n",
       "5006  3829   1.127634522 -0.177541  0.928538  0.215266 -0.793714 -0.235573   \n",
       "\n",
       "            V7        V8        V9  ...       V21       V22       V23  \\\n",
       "5002  0.006512 -0.089123  1.494201  ... -0.347095 -0.660825 -0.098141   \n",
       "5003 -0.718770  0.212062  2.198118  ... -0.224700 -0.242384 -0.089628   \n",
       "5004  0.516874 -0.078025  1.089442  ... -0.429051 -0.983112  0.011796   \n",
       "5005 -0.394422 -0.228229  3.776476  ...  0.036982  0.032657 -0.241899   \n",
       "5006 -0.632665  0.152417  1.627184  ... -0.258483 -0.630442  0.211391   \n",
       "\n",
       "           V24       V25       V26       V27       V28  Amount  Class  \n",
       "5002 -0.823444  0.559225 -0.478082  0.014488  0.017774   55.59      0  \n",
       "5003 -0.835864  0.404413 -0.352298  0.052244  0.025029   41.04      0  \n",
       "5004  0.237553 -0.228073  0.037685  0.210402  0.089230    1.79      0  \n",
       "5005  0.679177  0.376135 -0.866088  0.026492  0.075376  265.42      0  \n",
       "5006  0.153379 -0.203400  0.753116 -0.089801 -0.003283   23.70      0  \n",
       "\n",
       "[5 rows x 31 columns]"
      ]
     },
     "execution_count": 288,
     "metadata": {},
     "output_type": "execute_result"
    }
   ],
   "source": [
    "credit_card_data.tail()"
   ]
  },
  {
   "cell_type": "markdown",
   "id": "5702af8f",
   "metadata": {},
   "source": [
    "**Plot the scatter plot**"
   ]
  },
  {
   "cell_type": "code",
   "execution_count": 289,
   "id": "ba785297",
   "metadata": {},
   "outputs": [],
   "source": [
    "import seaborn as sns"
   ]
  },
  {
   "cell_type": "code",
   "execution_count": 290,
   "id": "638664ca",
   "metadata": {},
   "outputs": [
    {
     "data": {
      "text/plain": [
       "<AxesSubplot:xlabel='Time', ylabel='Class'>"
      ]
     },
     "execution_count": 290,
     "metadata": {},
     "output_type": "execute_result"
    },
    {
     "data": {
      "image/png": "[encoded data removed]",
      "text/plain": [
       "<Figure size 432x288 with 1 Axes>"
      ]
     },
     "metadata": {
      "needs_background": "light"
     },
     "output_type": "display_data"
    }
   ],
   "source": [
    "sns.scatterplot(y='Class',x='Time', data=credit_card_data)"
   ]
  },
  {
   "cell_type": "markdown",
   "id": "f1c43b41",
   "metadata": {},
   "source": [
    "**By analysing this scatter plot , I can use logistic regeression as well as decision tree.**\n",
    "\n",
    "\n",
    "**Data set information**"
   ]
  },
  {
   "cell_type": "code",
   "execution_count": 291,
   "id": "050eade6",
   "metadata": {},
   "outputs": [
    {
     "name": "stdout",
     "output_type": "stream",
     "text": [
      "<class 'pandas.core.frame.DataFrame'>\n",
      "RangeIndex: 5007 entries, 0 to 5006\n",
      "Data columns (total 31 columns):\n",
      " #   Column  Non-Null Count  Dtype  \n",
      "---  ------  --------------  -----  \n",
      " 0   Time    5007 non-null   int64  \n",
      " 1   V1      5007 non-null   object \n",
      " 2   V2      5007 non-null   float64\n",
      " 3   V3      5007 non-null   float64\n",
      " 4   V4      5007 non-null   float64\n",
      " 5   V5      5007 non-null   float64\n",
      " 6   V6      5007 non-null   float64\n",
      " 7   V7      5007 non-null   float64\n",
      " 8   V8      5007 non-null   float64\n",
      " 9   V9      5007 non-null   float64\n",
      " 10  V10     5007 non-null   float64\n",
      " 11  V11     5007 non-null   float64\n",
      " 12  V12     5007 non-null   float64\n",
      " 13  V13     5007 non-null   float64\n",
      " 14  V14     5007 non-null   float64\n",
      " 15  V15     5007 non-null   float64\n",
      " 16  V16     5007 non-null   float64\n",
      " 17  V17     5007 non-null   float64\n",
      " 18  V18     5007 non-null   float64\n",
      " 19  V19     5007 non-null   float64\n",
      " 20  V20     5007 non-null   float64\n",
      " 21  V21     5007 non-null   float64\n",
      " 22  V22     5007 non-null   float64\n",
      " 23  V23     5007 non-null   float64\n",
      " 24  V24     5007 non-null   float64\n",
      " 25  V25     5007 non-null   float64\n",
      " 26  V26     5007 non-null   float64\n",
      " 27  V27     5007 non-null   float64\n",
      " 28  V28     5007 non-null   float64\n",
      " 29  Amount  5007 non-null   float64\n",
      " 30  Class   5007 non-null   int64  \n",
      "dtypes: float64(28), int64(2), object(1)\n",
      "memory usage: 1.2+ MB\n"
     ]
    }
   ],
   "source": [
    "credit_card_data.info()"
   ]
  },
  {
   "cell_type": "markdown",
   "id": "625e439b",
   "metadata": {},
   "source": [
    "**Find if there is any null value present or not**"
   ]
  },
  {
   "cell_type": "code",
   "execution_count": 292,
   "id": "a48e25ad",
   "metadata": {},
   "outputs": [
    {
     "data": {
      "text/plain": [
       "Time      0\n",
       "V1        0\n",
       "V2        0\n",
       "V3        0\n",
       "V4        0\n",
       "V5        0\n",
       "V6        0\n",
       "V7        0\n",
       "V8        0\n",
       "V9        0\n",
       "V10       0\n",
       "V11       0\n",
       "V12       0\n",
       "V13       0\n",
       "V14       0\n",
       "V15       0\n",
       "V16       0\n",
       "V17       0\n",
       "V18       0\n",
       "V19       0\n",
       "V20       0\n",
       "V21       0\n",
       "V22       0\n",
       "V23       0\n",
       "V24       0\n",
       "V25       0\n",
       "V26       0\n",
       "V27       0\n",
       "V28       0\n",
       "Amount    0\n",
       "Class     0\n",
       "dtype: int64"
      ]
     },
     "execution_count": 292,
     "metadata": {},
     "output_type": "execute_result"
    }
   ],
   "source": [
    "credit_card_data.isnull().sum()"
   ]
  },
  {
   "cell_type": "markdown",
   "id": "33bfb43f",
   "metadata": {},
   "source": [
    "**There is no null value present in this dataset**\n",
    "\n",
    "**Now find out, how many legit & fraudulent teansactions data present in this dataset**"
   ]
  },
  {
   "cell_type": "code",
   "execution_count": 293,
   "id": "64d15d27",
   "metadata": {},
   "outputs": [
    {
     "data": {
      "text/plain": [
       "0    4515\n",
       "1     492\n",
       "Name: Class, dtype: int64"
      ]
     },
     "execution_count": 293,
     "metadata": {},
     "output_type": "execute_result"
    }
   ],
   "source": [
    "credit_card_data ['Class'].value_counts()"
   ]
  },
  {
   "cell_type": "markdown",
   "id": "7c3dceea",
   "metadata": {},
   "source": [
    "**Here, (0)Legit transactions are 4515 and (1)fraudulent transactions are 492.**\n",
    "\n",
    "**This data set is highly imbalanced**\n",
    "\n",
    "**We have to balance this dataset for high accuracy and to avoid the bias result**"
   ]
  },
  {
   "cell_type": "code",
   "execution_count": 294,
   "id": "3e2db7e2",
   "metadata": {},
   "outputs": [],
   "source": [
    "legit= credit_card_data[credit_card_data.Class== 0]"
   ]
  },
  {
   "cell_type": "code",
   "execution_count": 295,
   "id": "8bb93c7a",
   "metadata": {},
   "outputs": [],
   "source": [
    "fraud=credit_card_data[credit_card_data.Class==1]"
   ]
  },
  {
   "cell_type": "code",
   "execution_count": 296,
   "id": "8b447ac9",
   "metadata": {},
   "outputs": [
    {
     "name": "stdout",
     "output_type": "stream",
     "text": [
      "(4515, 31)\n",
      "(492, 31)\n"
     ]
    }
   ],
   "source": [
    "print(legit.shape)\n",
    "print(fraud.shape)"
   ]
  },
  {
   "cell_type": "code",
   "execution_count": 297,
   "id": "ee654866",
   "metadata": {},
   "outputs": [
    {
     "data": {
      "text/plain": [
       "count    4515.000000\n",
       "mean       63.969623\n",
       "std       203.244984\n",
       "min         0.000000\n",
       "25%         3.405000\n",
       "50%        15.030000\n",
       "75%        56.155000\n",
       "max      7712.430000\n",
       "Name: Amount, dtype: float64"
      ]
     },
     "execution_count": 297,
     "metadata": {},
     "output_type": "execute_result"
    }
   ],
   "source": [
    "legit.Amount.describe()"
   ]
  },
  {
   "cell_type": "code",
   "execution_count": 298,
   "id": "b6c69f86",
   "metadata": {},
   "outputs": [
    {
     "data": {
      "text/plain": [
       "count     492.000000\n",
       "mean      122.211321\n",
       "std       256.683288\n",
       "min         0.000000\n",
       "25%         1.000000\n",
       "50%         9.250000\n",
       "75%       105.890000\n",
       "max      2125.870000\n",
       "Name: Amount, dtype: float64"
      ]
     },
     "execution_count": 298,
     "metadata": {},
     "output_type": "execute_result"
    }
   ],
   "source": [
    "fraud.Amount.describe()"
   ]
  },
  {
   "cell_type": "markdown",
   "id": "002a5d75",
   "metadata": {},
   "source": [
    "**Compare all values**"
   ]
  },
  {
   "cell_type": "code",
   "execution_count": 299,
   "id": "7ce67661",
   "metadata": {},
   "outputs": [
    {
     "data": {
      "text/html": [
       "<div>\n",
       "<style scoped>\n",
       "    .dataframe tbody tr th:only-of-type {\n",
       "        vertical-align: middle;\n",
       "    }\n",
       "\n",
       "    .dataframe tbody tr th {\n",
       "        vertical-align: top;\n",
       "    }\n",
       "\n",
       "    .dataframe thead th {\n",
       "        text-align: right;\n",
       "    }\n",
       "</style>\n",
       "<table border=\"1\" class=\"dataframe\">\n",
       "  <thead>\n",
       "    <tr style=\"text-align: right;\">\n",
       "      <th></th>\n",
       "      <th>Time</th>\n",
       "      <th>V2</th>\n",
       "      <th>V3</th>\n",
       "      <th>V4</th>\n",
       "      <th>V5</th>\n",
       "      <th>V6</th>\n",
       "      <th>V7</th>\n",
       "      <th>V8</th>\n",
       "      <th>V9</th>\n",
       "      <th>V10</th>\n",
       "      <th>...</th>\n",
       "      <th>V20</th>\n",
       "      <th>V21</th>\n",
       "      <th>V22</th>\n",
       "      <th>V23</th>\n",
       "      <th>V24</th>\n",
       "      <th>V25</th>\n",
       "      <th>V26</th>\n",
       "      <th>V27</th>\n",
       "      <th>V28</th>\n",
       "      <th>Amount</th>\n",
       "    </tr>\n",
       "    <tr>\n",
       "      <th>Class</th>\n",
       "      <th></th>\n",
       "      <th></th>\n",
       "      <th></th>\n",
       "      <th></th>\n",
       "      <th></th>\n",
       "      <th></th>\n",
       "      <th></th>\n",
       "      <th></th>\n",
       "      <th></th>\n",
       "      <th></th>\n",
       "      <th></th>\n",
       "      <th></th>\n",
       "      <th></th>\n",
       "      <th></th>\n",
       "      <th></th>\n",
       "      <th></th>\n",
       "      <th></th>\n",
       "      <th></th>\n",
       "      <th></th>\n",
       "      <th></th>\n",
       "      <th></th>\n",
       "    </tr>\n",
       "  </thead>\n",
       "  <tbody>\n",
       "    <tr>\n",
       "      <th>0</th>\n",
       "      <td>1892.840310</td>\n",
       "      <td>0.231666</td>\n",
       "      <td>0.782539</td>\n",
       "      <td>-0.059264</td>\n",
       "      <td>-0.003322</td>\n",
       "      <td>0.161789</td>\n",
       "      <td>0.053375</td>\n",
       "      <td>-0.035500</td>\n",
       "      <td>0.123893</td>\n",
       "      <td>-0.046865</td>\n",
       "      <td>...</td>\n",
       "      <td>0.065991</td>\n",
       "      <td>-0.014672</td>\n",
       "      <td>-0.137891</td>\n",
       "      <td>-0.043431</td>\n",
       "      <td>0.042385</td>\n",
       "      <td>0.098002</td>\n",
       "      <td>-0.053252</td>\n",
       "      <td>0.038078</td>\n",
       "      <td>0.004249</td>\n",
       "      <td>63.969623</td>\n",
       "    </tr>\n",
       "    <tr>\n",
       "      <th>1</th>\n",
       "      <td>80746.806911</td>\n",
       "      <td>3.623778</td>\n",
       "      <td>-7.033281</td>\n",
       "      <td>4.542029</td>\n",
       "      <td>-3.151225</td>\n",
       "      <td>-1.397737</td>\n",
       "      <td>-5.568731</td>\n",
       "      <td>0.570636</td>\n",
       "      <td>-2.581123</td>\n",
       "      <td>-5.676883</td>\n",
       "      <td>...</td>\n",
       "      <td>0.372319</td>\n",
       "      <td>0.713588</td>\n",
       "      <td>0.014049</td>\n",
       "      <td>-0.040308</td>\n",
       "      <td>-0.105130</td>\n",
       "      <td>0.041449</td>\n",
       "      <td>0.051648</td>\n",
       "      <td>0.170575</td>\n",
       "      <td>0.075667</td>\n",
       "      <td>122.211321</td>\n",
       "    </tr>\n",
       "  </tbody>\n",
       "</table>\n",
       "<p>2 rows × 29 columns</p>\n",
       "</div>"
      ],
      "text/plain": [
       "               Time        V2        V3        V4        V5        V6  \\\n",
       "Class                                                                   \n",
       "0       1892.840310  0.231666  0.782539 -0.059264 -0.003322  0.161789   \n",
       "1      80746.806911  3.623778 -7.033281  4.542029 -3.151225 -1.397737   \n",
       "\n",
       "             V7        V8        V9       V10  ...       V20       V21  \\\n",
       "Class                                          ...                       \n",
       "0      0.053375 -0.035500  0.123893 -0.046865  ...  0.065991 -0.014672   \n",
       "1     -5.568731  0.570636 -2.581123 -5.676883  ...  0.372319  0.713588   \n",
       "\n",
       "            V22       V23       V24       V25       V26       V27       V28  \\\n",
       "Class                                                                         \n",
       "0     -0.137891 -0.043431  0.042385  0.098002 -0.053252  0.038078  0.004249   \n",
       "1      0.014049 -0.040308 -0.105130  0.041449  0.051648  0.170575  0.075667   \n",
       "\n",
       "           Amount  \n",
       "Class              \n",
       "0       63.969623  \n",
       "1      122.211321  \n",
       "\n",
       "[2 rows x 29 columns]"
      ]
     },
     "execution_count": 299,
     "metadata": {},
     "output_type": "execute_result"
    }
   ],
   "source": [
    "credit_card_data.groupby ('Class').mean()"
   ]
  },
  {
   "cell_type": "markdown",
   "id": "1956cf6f",
   "metadata": {},
   "source": [
    "**Now we will balance this data set**"
   ]
  },
  {
   "cell_type": "code",
   "execution_count": 300,
   "id": "d0ec8635",
   "metadata": {},
   "outputs": [],
   "source": [
    "legit_sample = legit.sample(n=492)"
   ]
  },
  {
   "cell_type": "code",
   "execution_count": 301,
   "id": "359009aa",
   "metadata": {},
   "outputs": [],
   "source": [
    "balanced_dataset = pd.concat([legit_sample,fraud],axis=0)"
   ]
  },
  {
   "cell_type": "code",
   "execution_count": 302,
   "id": "a6d4814b",
   "metadata": {},
   "outputs": [
    {
     "data": {
      "text/plain": [
       "0    492\n",
       "1    492\n",
       "Name: Class, dtype: int64"
      ]
     },
     "execution_count": 302,
     "metadata": {},
     "output_type": "execute_result"
    }
   ],
   "source": [
    "balanced_dataset['Class'].value_counts()"
   ]
  },
  {
   "cell_type": "markdown",
   "id": "c6f27fef",
   "metadata": {},
   "source": [
    "**Now our dataset is balanced**\n",
    "\n",
    "**Again Groupby using class coloumn**"
   ]
  },
  {
   "cell_type": "code",
   "execution_count": 303,
   "id": "b006e260",
   "metadata": {},
   "outputs": [
    {
     "data": {
      "text/html": [
       "<div>\n",
       "<style scoped>\n",
       "    .dataframe tbody tr th:only-of-type {\n",
       "        vertical-align: middle;\n",
       "    }\n",
       "\n",
       "    .dataframe tbody tr th {\n",
       "        vertical-align: top;\n",
       "    }\n",
       "\n",
       "    .dataframe thead th {\n",
       "        text-align: right;\n",
       "    }\n",
       "</style>\n",
       "<table border=\"1\" class=\"dataframe\">\n",
       "  <thead>\n",
       "    <tr style=\"text-align: right;\">\n",
       "      <th></th>\n",
       "      <th>Time</th>\n",
       "      <th>V2</th>\n",
       "      <th>V3</th>\n",
       "      <th>V4</th>\n",
       "      <th>V5</th>\n",
       "      <th>V6</th>\n",
       "      <th>V7</th>\n",
       "      <th>V8</th>\n",
       "      <th>V9</th>\n",
       "      <th>V10</th>\n",
       "      <th>...</th>\n",
       "      <th>V20</th>\n",
       "      <th>V21</th>\n",
       "      <th>V22</th>\n",
       "      <th>V23</th>\n",
       "      <th>V24</th>\n",
       "      <th>V25</th>\n",
       "      <th>V26</th>\n",
       "      <th>V27</th>\n",
       "      <th>V28</th>\n",
       "      <th>Amount</th>\n",
       "    </tr>\n",
       "    <tr>\n",
       "      <th>Class</th>\n",
       "      <th></th>\n",
       "      <th></th>\n",
       "      <th></th>\n",
       "      <th></th>\n",
       "      <th></th>\n",
       "      <th></th>\n",
       "      <th></th>\n",
       "      <th></th>\n",
       "      <th></th>\n",
       "      <th></th>\n",
       "      <th></th>\n",
       "      <th></th>\n",
       "      <th></th>\n",
       "      <th></th>\n",
       "      <th></th>\n",
       "      <th></th>\n",
       "      <th></th>\n",
       "      <th></th>\n",
       "      <th></th>\n",
       "      <th></th>\n",
       "      <th></th>\n",
       "    </tr>\n",
       "  </thead>\n",
       "  <tbody>\n",
       "    <tr>\n",
       "      <th>0</th>\n",
       "      <td>1901.695122</td>\n",
       "      <td>0.287615</td>\n",
       "      <td>0.787795</td>\n",
       "      <td>-0.091378</td>\n",
       "      <td>-0.060441</td>\n",
       "      <td>0.227830</td>\n",
       "      <td>0.047984</td>\n",
       "      <td>-0.044455</td>\n",
       "      <td>0.120601</td>\n",
       "      <td>-0.025905</td>\n",
       "      <td>...</td>\n",
       "      <td>0.081840</td>\n",
       "      <td>-0.027613</td>\n",
       "      <td>-0.115154</td>\n",
       "      <td>-0.049386</td>\n",
       "      <td>0.065849</td>\n",
       "      <td>0.102218</td>\n",
       "      <td>-0.044659</td>\n",
       "      <td>0.055361</td>\n",
       "      <td>0.011576</td>\n",
       "      <td>66.200528</td>\n",
       "    </tr>\n",
       "    <tr>\n",
       "      <th>1</th>\n",
       "      <td>80746.806911</td>\n",
       "      <td>3.623778</td>\n",
       "      <td>-7.033281</td>\n",
       "      <td>4.542029</td>\n",
       "      <td>-3.151225</td>\n",
       "      <td>-1.397737</td>\n",
       "      <td>-5.568731</td>\n",
       "      <td>0.570636</td>\n",
       "      <td>-2.581123</td>\n",
       "      <td>-5.676883</td>\n",
       "      <td>...</td>\n",
       "      <td>0.372319</td>\n",
       "      <td>0.713588</td>\n",
       "      <td>0.014049</td>\n",
       "      <td>-0.040308</td>\n",
       "      <td>-0.105130</td>\n",
       "      <td>0.041449</td>\n",
       "      <td>0.051648</td>\n",
       "      <td>0.170575</td>\n",
       "      <td>0.075667</td>\n",
       "      <td>122.211321</td>\n",
       "    </tr>\n",
       "  </tbody>\n",
       "</table>\n",
       "<p>2 rows × 29 columns</p>\n",
       "</div>"
      ],
      "text/plain": [
       "               Time        V2        V3        V4        V5        V6  \\\n",
       "Class                                                                   \n",
       "0       1901.695122  0.287615  0.787795 -0.091378 -0.060441  0.227830   \n",
       "1      80746.806911  3.623778 -7.033281  4.542029 -3.151225 -1.397737   \n",
       "\n",
       "             V7        V8        V9       V10  ...       V20       V21  \\\n",
       "Class                                          ...                       \n",
       "0      0.047984 -0.044455  0.120601 -0.025905  ...  0.081840 -0.027613   \n",
       "1     -5.568731  0.570636 -2.581123 -5.676883  ...  0.372319  0.713588   \n",
       "\n",
       "            V22       V23       V24       V25       V26       V27       V28  \\\n",
       "Class                                                                         \n",
       "0     -0.115154 -0.049386  0.065849  0.102218 -0.044659  0.055361  0.011576   \n",
       "1      0.014049 -0.040308 -0.105130  0.041449  0.051648  0.170575  0.075667   \n",
       "\n",
       "           Amount  \n",
       "Class              \n",
       "0       66.200528  \n",
       "1      122.211321  \n",
       "\n",
       "[2 rows x 29 columns]"
      ]
     },
     "execution_count": 303,
     "metadata": {},
     "output_type": "execute_result"
    }
   ],
   "source": [
    "balanced_dataset.groupby ('Class').mean()"
   ]
  },
  {
   "cell_type": "code",
   "execution_count": 304,
   "id": "dcc620ab",
   "metadata": {},
   "outputs": [],
   "source": [
    "X= balanced_dataset.drop (columns='Class', axis=1)"
   ]
  },
  {
   "cell_type": "code",
   "execution_count": 305,
   "id": "17c761fe",
   "metadata": {},
   "outputs": [],
   "source": [
    "Y= balanced_dataset['Class']"
   ]
  },
  {
   "cell_type": "markdown",
   "id": "2946480d",
   "metadata": {},
   "source": [
    "**Now split the data into Testing and training sets, then fit logistic regression as this is binary type of problem**"
   ]
  },
  {
   "cell_type": "code",
   "execution_count": 306,
   "id": "5d37ca3e",
   "metadata": {},
   "outputs": [],
   "source": [
    "from sklearn.model_selection import train_test_split"
   ]
  },
  {
   "cell_type": "code",
   "execution_count": 307,
   "id": "8d62bc72",
   "metadata": {},
   "outputs": [],
   "source": [
    "X_train, X_test, Y_train , Y_test = train_test_split(X,Y, test_size=0.2, random_state=2)"
   ]
  },
  {
   "cell_type": "code",
   "execution_count": 308,
   "id": "45eb0af6",
   "metadata": {},
   "outputs": [
    {
     "name": "stdout",
     "output_type": "stream",
     "text": [
      "(984, 30) (787, 30) (197, 30)\n"
     ]
    }
   ],
   "source": [
    "print(X.shape, X_train.shape, X_test.shape)"
   ]
  },
  {
   "cell_type": "markdown",
   "id": "c8683470",
   "metadata": {},
   "source": [
    "**Model Training**"
   ]
  },
  {
   "cell_type": "code",
   "execution_count": 309,
   "id": "90bea0da",
   "metadata": {},
   "outputs": [],
   "source": [
    "from sklearn.linear_model import LogisticRegression"
   ]
  },
  {
   "cell_type": "code",
   "execution_count": 310,
   "id": "5fa10688",
   "metadata": {},
   "outputs": [],
   "source": [
    "model = LogisticRegression()"
   ]
  },
  {
   "cell_type": "code",
   "execution_count": 311,
   "id": "9e2b7775",
   "metadata": {},
   "outputs": [
    {
     "name": "stderr",
     "output_type": "stream",
     "text": [
      "C:\\ProgramData\\Anaconda3\\lib\\site-packages\\sklearn\\linear_model\\_logistic.py:763: ConvergenceWarning: lbfgs failed to converge (status=1):\n",
      "STOP: TOTAL NO. of ITERATIONS REACHED LIMIT.\n",
      "\n",
      "Increase the number of iterations (max_iter) or scale the data as shown in:\n",
      "    https://scikit-learn.org/stable/modules/preprocessing.html\n",
      "Please also refer to the documentation for alternative solver options:\n",
      "    https://scikit-learn.org/stable/modules/linear_model.html#logistic-regression\n",
      "  n_iter_i = _check_optimize_result(\n"
     ]
    },
    {
     "data": {
      "text/plain": [
       "LogisticRegression()"
      ]
     },
     "execution_count": 311,
     "metadata": {},
     "output_type": "execute_result"
    }
   ],
   "source": [
    "model.fit(X_train, Y_train)"
   ]
  },
  {
   "cell_type": "markdown",
   "id": "db87aef0",
   "metadata": {},
   "source": [
    "**Model Evaluation**"
   ]
  },
  {
   "cell_type": "code",
   "execution_count": 312,
   "id": "ef2c5644",
   "metadata": {},
   "outputs": [],
   "source": [
    "#accuracy on train data\n"
   ]
  },
  {
   "cell_type": "code",
   "execution_count": 313,
   "id": "be3b28af",
   "metadata": {},
   "outputs": [],
   "source": [
    "X_train_prediction = model.predict(X_train)"
   ]
  },
  {
   "cell_type": "code",
   "execution_count": 314,
   "id": "21f5b01f",
   "metadata": {},
   "outputs": [],
   "source": [
    "from sklearn.metrics import accuracy_score"
   ]
  },
  {
   "cell_type": "code",
   "execution_count": 315,
   "id": "830958f6",
   "metadata": {},
   "outputs": [],
   "source": [
    "training_data_accuracy = accuracy_score (X_train_prediction, Y_train)"
   ]
  },
  {
   "cell_type": "code",
   "execution_count": 316,
   "id": "ea8072cb",
   "metadata": {},
   "outputs": [
    {
     "name": "stdout",
     "output_type": "stream",
     "text": [
      "Accuracy on training data using Logistic regression : 0.9961880559085133\n"
     ]
    }
   ],
   "source": [
    "print ('Accuracy on training data using Logistic regression :',(training_data_accuracy))"
   ]
  },
  {
   "cell_type": "code",
   "execution_count": 317,
   "id": "e97ec180",
   "metadata": {},
   "outputs": [],
   "source": [
    "#accuracy on test data\n"
   ]
  },
  {
   "cell_type": "code",
   "execution_count": 318,
   "id": "bf30a34c",
   "metadata": {},
   "outputs": [],
   "source": [
    "X_test_prediction = model.predict(X_test)"
   ]
  },
  {
   "cell_type": "code",
   "execution_count": 319,
   "id": "27460ea5",
   "metadata": {},
   "outputs": [],
   "source": [
    "testing_data_accuracy = accuracy_score (X_test_prediction, Y_test)"
   ]
  },
  {
   "cell_type": "code",
   "execution_count": 320,
   "id": "781dc42c",
   "metadata": {},
   "outputs": [
    {
     "name": "stdout",
     "output_type": "stream",
     "text": [
      "Accuracy on testing data using Logistic regression : 0.9949238578680203\n"
     ]
    }
   ],
   "source": [
    "print ('Accuracy on testing data using Logistic regression :',(testing_data_accuracy))"
   ]
  },
  {
   "cell_type": "code",
   "execution_count": 321,
   "id": "616fb2fa",
   "metadata": {},
   "outputs": [],
   "source": [
    "#model score"
   ]
  },
  {
   "cell_type": "code",
   "execution_count": 322,
   "id": "fd392b31",
   "metadata": {},
   "outputs": [
    {
     "data": {
      "text/plain": [
       "0.9949238578680203"
      ]
     },
     "execution_count": 322,
     "metadata": {},
     "output_type": "execute_result"
    }
   ],
   "source": [
    "model.score (X_test, Y_test)"
   ]
  },
  {
   "cell_type": "code",
   "execution_count": 323,
   "id": "c8fd6695",
   "metadata": {},
   "outputs": [],
   "source": [
    "from sklearn.metrics import confusion_matrix"
   ]
  },
  {
   "cell_type": "code",
   "execution_count": 324,
   "id": "44efce0e",
   "metadata": {},
   "outputs": [],
   "source": [
    "Y_pred = model.predict (X_test)"
   ]
  },
  {
   "cell_type": "code",
   "execution_count": 325,
   "id": "e05cd5ff",
   "metadata": {},
   "outputs": [
    {
     "data": {
      "text/plain": [
       "array([[ 94,   1],\n",
       "       [  0, 102]], dtype=int64)"
      ]
     },
     "execution_count": 325,
     "metadata": {},
     "output_type": "execute_result"
    }
   ],
   "source": [
    "confusion_matrix (Y_test, Y_pred)"
   ]
  },
  {
   "cell_type": "markdown",
   "id": "d7239465",
   "metadata": {},
   "source": [
    "**Classification report**"
   ]
  },
  {
   "cell_type": "code",
   "execution_count": 326,
   "id": "d1e96c21",
   "metadata": {},
   "outputs": [
    {
     "name": "stdout",
     "output_type": "stream",
     "text": [
      "              precision    recall  f1-score   support\n",
      "\n",
      "           0       1.00      0.99      0.99        95\n",
      "           1       0.99      1.00      1.00       102\n",
      "\n",
      "    accuracy                           0.99       197\n",
      "   macro avg       1.00      0.99      0.99       197\n",
      "weighted avg       0.99      0.99      0.99       197\n",
      "\n"
     ]
    }
   ],
   "source": [
    "from sklearn.metrics import classification_report\n",
    "print(classification_report(Y_test, Y_pred))"
   ]
  },
  {
   "cell_type": "markdown",
   "id": "35ef9148",
   "metadata": {},
   "source": [
    "**Now Let's Use the Decision Tree algorithm and see which one is better**"
   ]
  },
  {
   "cell_type": "code",
   "execution_count": 327,
   "id": "8eb8d941",
   "metadata": {},
   "outputs": [
    {
     "data": {
      "text/plain": [
       "DecisionTreeClassifier()"
      ]
     },
     "execution_count": 327,
     "metadata": {},
     "output_type": "execute_result"
    }
   ],
   "source": [
    "from sklearn import tree\n",
    "tree_model = tree.DecisionTreeClassifier(criterion='gini')\n",
    "tree_model.fit(X_train, Y_train)"
   ]
  },
  {
   "cell_type": "code",
   "execution_count": 328,
   "id": "d1d78506",
   "metadata": {},
   "outputs": [],
   "source": [
    "#Training data accuracy using Decision tree algorithm"
   ]
  },
  {
   "cell_type": "code",
   "execution_count": 329,
   "id": "5011e6c1",
   "metadata": {},
   "outputs": [],
   "source": [
    "X_train_prediction_tree = tree_model.predict(X_train)"
   ]
  },
  {
   "cell_type": "code",
   "execution_count": 330,
   "id": "3ac7cd2b",
   "metadata": {},
   "outputs": [],
   "source": [
    "training_data_accuracy = accuracy_score (X_train_prediction_tree, Y_train)"
   ]
  },
  {
   "cell_type": "code",
   "execution_count": 331,
   "id": "d07a5cfc",
   "metadata": {},
   "outputs": [
    {
     "name": "stdout",
     "output_type": "stream",
     "text": [
      "Accuracy on training data using Decision tree : 1.0\n"
     ]
    }
   ],
   "source": [
    "print ('Accuracy on training data using Decision tree :',(training_data_accuracy))"
   ]
  },
  {
   "cell_type": "code",
   "execution_count": 332,
   "id": "580c1666",
   "metadata": {},
   "outputs": [],
   "source": [
    "#Testing data accuracy using Decision tree algorithm"
   ]
  },
  {
   "cell_type": "code",
   "execution_count": 333,
   "id": "0405dc5e",
   "metadata": {},
   "outputs": [],
   "source": [
    "X_test_prediction_tree = tree_model.predict(X_test)"
   ]
  },
  {
   "cell_type": "code",
   "execution_count": 334,
   "id": "3950a4e4",
   "metadata": {},
   "outputs": [],
   "source": [
    "testing_data_accuracy_tree = accuracy_score (X_test_prediction_tree, Y_test)"
   ]
  },
  {
   "cell_type": "code",
   "execution_count": 335,
   "id": "3b0c7096",
   "metadata": {},
   "outputs": [
    {
     "name": "stdout",
     "output_type": "stream",
     "text": [
      "Accuracy on testing data using Decision tree : 1.0\n"
     ]
    }
   ],
   "source": [
    "print ('Accuracy on testing data using Decision tree :',(testing_data_accuracy_tree))"
   ]
  },
  {
   "cell_type": "code",
   "execution_count": 336,
   "id": "be87999e",
   "metadata": {},
   "outputs": [
    {
     "data": {
      "text/plain": [
       "1.0"
      ]
     },
     "execution_count": 336,
     "metadata": {},
     "output_type": "execute_result"
    }
   ],
   "source": [
    "tree_model.score (X_test, Y_test)"
   ]
  },
  {
   "cell_type": "markdown",
   "id": "141e179c",
   "metadata": {},
   "source": [
    "**Conclusion: I have solved this problem by using two methods, that are**\n",
    "    \n",
    "    1) Logistic Regression\n",
    "    2)Decision Tree\n",
    "    \n",
    "    I found that decision tree give slightly better result as it gives more accuracy on training set.\n",
    "    otherwise, both the model was pretty accurate."
   ]
  }
 ],
 "metadata": {
  "kernelspec": {
   "display_name": "Python 3 (ipykernel)",
   "language": "python",
   "name": "python3"
  },
  "language_info": {
   "codemirror_mode": {
    "name": "ipython",
    "version": 3
   },
   "file_extension": ".py",
   "mimetype": "text/x-python",
   "name": "python",
   "nbconvert_exporter": "python",
   "pygments_lexer": "ipython3",
   "version": "3.9.7"
  }
 },
 "nbformat": 4,
 "nbformat_minor": 5
}
